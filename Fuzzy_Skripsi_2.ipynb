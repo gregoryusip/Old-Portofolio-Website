{
  "nbformat": 4,
  "nbformat_minor": 0,
  "metadata": {
    "colab": {
      "name": "Fuzzy Skripsi 2",
      "provenance": [],
      "collapsed_sections": [],
      "toc_visible": true,
      "authorship_tag": "ABX9TyMlfFRXx5GpzDQz4zAlI+zp",
      "include_colab_link": true
    },
    "kernelspec": {
      "name": "python3",
      "display_name": "Python 3"
    },
    "language_info": {
      "name": "python"
    }
  },
  "cells": [
    {
      "cell_type": "markdown",
      "metadata": {
        "id": "view-in-github",
        "colab_type": "text"
      },
      "source": [
        "<a href=\"https://colab.research.google.com/github/gregoryusip/Old-Portofolio-Website/blob/main/Fuzzy_Skripsi_2.ipynb\" target=\"_parent\"><img src=\"https://colab.research.google.com/assets/colab-badge.svg\" alt=\"Open In Colab\"/></a>"
      ]
    },
    {
      "cell_type": "markdown",
      "source": [
        "PREPARATION"
      ],
      "metadata": {
        "id": "2CE-T88CJEj7"
      }
    },
    {
      "cell_type": "markdown",
      "source": [
        "# PREPARATION"
      ],
      "metadata": {
        "id": "H0HD39FGJIPh"
      }
    },
    {
      "cell_type": "code",
      "execution_count": 1,
      "metadata": {
        "colab": {
          "base_uri": "https://localhost:8080/"
        },
        "id": "iFNDkNzsDl0m",
        "outputId": "f3d5a1d1-20ba-4b11-fc48-130b3b420e54"
      },
      "outputs": [
        {
          "output_type": "stream",
          "name": "stdout",
          "text": [
            "Collecting scikit-fuzzy\n",
            "  Downloading scikit-fuzzy-0.4.2.tar.gz (993 kB)\n",
            "\u001b[K     |████████████████████████████████| 993 kB 5.1 MB/s \n",
            "\u001b[?25hRequirement already satisfied: numpy>=1.6.0 in /usr/local/lib/python3.7/dist-packages (from scikit-fuzzy) (1.19.5)\n",
            "Requirement already satisfied: scipy>=0.9.0 in /usr/local/lib/python3.7/dist-packages (from scikit-fuzzy) (1.4.1)\n",
            "Requirement already satisfied: networkx>=1.9.0 in /usr/local/lib/python3.7/dist-packages (from scikit-fuzzy) (2.6.3)\n",
            "Building wheels for collected packages: scikit-fuzzy\n",
            "  Building wheel for scikit-fuzzy (setup.py) ... \u001b[?25l\u001b[?25hdone\n",
            "  Created wheel for scikit-fuzzy: filename=scikit_fuzzy-0.4.2-py3-none-any.whl size=894089 sha256=476e24678311bed366fb126424cc3079bf9839a34632dd5a7ce0de3d448dadad\n",
            "  Stored in directory: /root/.cache/pip/wheels/d5/74/fc/38588a3d2e3f34f74588e6daa3aa5b0a322bd6f9420a707131\n",
            "Successfully built scikit-fuzzy\n",
            "Installing collected packages: scikit-fuzzy\n",
            "Successfully installed scikit-fuzzy-0.4.2\n"
          ]
        }
      ],
      "source": [
        "pip install -U scikit-fuzzy"
      ]
    },
    {
      "cell_type": "code",
      "source": [
        "import numpy as np\n",
        "import skfuzzy as fuzz\n",
        "from skfuzzy import control as ctrl"
      ],
      "metadata": {
        "id": "BuEaGtCTEKKC"
      },
      "execution_count": 2,
      "outputs": []
    },
    {
      "cell_type": "markdown",
      "source": [
        "# IMPORT DATA"
      ],
      "metadata": {
        "id": "ZeDOiLJ3KE-n"
      }
    },
    {
      "cell_type": "code",
      "source": [
        "dataBSC = ([0.9, 0.8, 0.8, 0.9],\n",
        "        [0.9, 0.8, 0.7, 0.8],\n",
        "        [0.8, 0.7, 0.9, 0.9],\n",
        "        [0.7, 0.7, 0.8, 0.8],\n",
        "        [0.9, 0.9, 0.8, 0.8],\n",
        "        [0.8, 0.9, 0.8, 0.7],\n",
        "        [0.9, 0.8, 0.7, 0.8],\n",
        "        [0.7, 0.7, 0.7, 0.9],\n",
        "        [0.7, 0.9, 0.8, 0.9],\n",
        "        [0.6, 0.9, 0.9, 0.8],\n",
        "        [0.9, 0.8, 0.9, 0.7],\n",
        "        [0.6, 0.8, 0.9, 0.9],\n",
        "        [0.8, 0.8, 0.7, 0.9],\n",
        "        [0.7, 0.9, 0.6, 0.8])\n",
        "\n",
        "dataExtEgg = [0.029854653, 0.498841127, 0.912182144, 0.786505999]\n",
        "\n",
        "dataExtCat = [0.866557013, 0.143045284, 0.322219464, 0.772467867, 0.660258628, 0.874443595, 0.861947221, 0.688269037, 0.523296107, 0.088541406]"
      ],
      "metadata": {
        "id": "Ux2m8jNQKVtP"
      },
      "execution_count": 3,
      "outputs": []
    },
    {
      "cell_type": "markdown",
      "source": [
        "# CREATING FUZZY CONTROL SYSTEM USING skfuzzy CONTROL API"
      ],
      "metadata": {
        "id": "UNkGge4iJSZO"
      }
    },
    {
      "cell_type": "markdown",
      "source": [
        "## FUZZY MODEL"
      ],
      "metadata": {
        "id": "RrgpZ36WJuYY"
      }
    },
    {
      "cell_type": "markdown",
      "source": [
        "### Finance"
      ],
      "metadata": {
        "id": "I7KeJbwo9-bW"
      }
    },
    {
      "cell_type": "code",
      "source": [
        "finance = ctrl.Antecedent(np.arange(0, 1.1, 0.01), 'finance')\n",
        "\n",
        "finance['bad'] = fuzz.trapmf(finance.universe, [0.0, 0.0, 0.2, 0.4])\n",
        "finance['normal'] = fuzz.trimf(finance.universe, [0.2, 0.4, 0.6])\n",
        "finance['good'] = fuzz.trimf(finance.universe, [0.4, 0.6, 0.8])\n",
        "finance['veryGood'] = fuzz.trapmf(finance.universe, [0.6, 0.8, 1.0, 1.0])\n",
        "\n",
        "finance.view()"
      ],
      "metadata": {
        "colab": {
          "base_uri": "https://localhost:8080/",
          "height": 281
        },
        "id": "Qom5GOfR-AsJ",
        "outputId": "441e55f4-fa0a-4e7f-f2e5-d863dbaba938"
      },
      "execution_count": 23,
      "outputs": [
        {
          "output_type": "display_data",
          "data": {
            "image/png": "[encoded data removed]",
            "text/plain": [
              "<Figure size 432x288 with 1 Axes>"
            ]
          },
          "metadata": {
            "needs_background": "light"
          }
        }
      ]
    },
    {
      "cell_type": "markdown",
      "source": [
        "### Customer"
      ],
      "metadata": {
        "id": "3FclbXZy-F2s"
      }
    },
    {
      "cell_type": "code",
      "source": [
        "customer = ctrl.Antecedent(np.arange(0, 1.1, 0.01), 'customer')\n",
        "\n",
        "customer['bad'] = fuzz.trapmf(customer.universe, [0.0, 0.0, 0.2, 0.4])\n",
        "customer['normal'] = fuzz.trimf(customer.universe, [0.2, 0.4, 0.6])\n",
        "customer['good'] = fuzz.trimf(customer.universe, [0.4, 0.6, 0.8])\n",
        "customer['veryGood'] = fuzz.trapmf(customer.universe, [0.6, 0.8, 1.0, 1.0])\n",
        "\n",
        "customer.view()"
      ],
      "metadata": {
        "colab": {
          "base_uri": "https://localhost:8080/",
          "height": 281
        },
        "id": "YpTTMoHl-H3o",
        "outputId": "b4c3fb81-1bc1-494e-c06e-43e35e0c5325"
      },
      "execution_count": 24,
      "outputs": [
        {
          "output_type": "display_data",
          "data": {
            "image/png": "[encoded data removed]",
            "text/plain": [
              "<Figure size 432x288 with 1 Axes>"
            ]
          },
          "metadata": {
            "needs_background": "light"
          }
        }
      ]
    },
    {
      "cell_type": "markdown",
      "source": [
        "### Business Process"
      ],
      "metadata": {
        "id": "EkfcV5Nd-VD1"
      }
    },
    {
      "cell_type": "code",
      "source": [
        "businessProcess = ctrl.Antecedent(np.arange(0, 1.1, 0.01), 'businessProcess')\n",
        "\n",
        "\n",
        "businessProcess['bad'] = fuzz.trapmf(businessProcess.universe, [0.0, 0.0, 0.2, 0.4])\n",
        "businessProcess['normal'] = fuzz.trimf(businessProcess.universe, [0.2, 0.4, 0.6])\n",
        "businessProcess['good'] = fuzz.trimf(businessProcess.universe, [0.4, 0.6, 0.8])\n",
        "businessProcess['veryGood'] = fuzz.trapmf(businessProcess.universe, [0.6, 0.8, 1.0, 1.0])\n",
        "\n",
        "businessProcess.view()"
      ],
      "metadata": {
        "colab": {
          "base_uri": "https://localhost:8080/",
          "height": 281
        },
        "id": "jlm1Qbxv-YDU",
        "outputId": "0965e817-4cc9-4dfc-8969-6da24f8f0e41"
      },
      "execution_count": 25,
      "outputs": [
        {
          "output_type": "display_data",
          "data": {
            "image/png": "[encoded data removed]",
            "text/plain": [
              "<Figure size 432x288 with 1 Axes>"
            ]
          },
          "metadata": {
            "needs_background": "light"
          }
        }
      ]
    },
    {
      "cell_type": "markdown",
      "source": [
        "### Learning Growth"
      ],
      "metadata": {
        "id": "eXouycjH-cuQ"
      }
    },
    {
      "cell_type": "code",
      "source": [
        "learningGrowth = ctrl.Antecedent(np.arange(0, 1.1, 0.01), 'learningGrowth')\n",
        "\n",
        "\n",
        "learningGrowth['bad'] = fuzz.trapmf(learningGrowth.universe, [0.0, 0.0, 0.2, 0.4])\n",
        "learningGrowth['normal'] = fuzz.trimf(learningGrowth.universe, [0.2, 0.4, 0.6])\n",
        "learningGrowth['good'] = fuzz.trimf(learningGrowth.universe, [0.4, 0.6, 0.8])\n",
        "learningGrowth['veryGood'] = fuzz.trapmf(learningGrowth.universe, [0.6, 0.8, 1.0, 1.0])\n",
        "\n",
        "learningGrowth.view()"
      ],
      "metadata": {
        "colab": {
          "base_uri": "https://localhost:8080/",
          "height": 281
        },
        "id": "EK7Hwrc2-fUs",
        "outputId": "a38c400e-4222-4f27-e25e-e1fed7af2ebf"
      },
      "execution_count": 26,
      "outputs": [
        {
          "output_type": "display_data",
          "data": {
            "image/png": "[encoded data removed]",
            "text/plain": [
              "<Figure size 432x288 with 1 Axes>"
            ]
          },
          "metadata": {
            "needs_background": "light"
          }
        }
      ]
    },
    {
      "cell_type": "markdown",
      "source": [
        "### Company Performance"
      ],
      "metadata": {
        "id": "ViFUa3Zk-ih4"
      }
    },
    {
      "cell_type": "code",
      "source": [
        "companyPerf = ctrl.Consequent(np.arange(0, 1.1, 0.01), 'companyPerf')\n",
        "\n",
        "companyPerf['bad'] = fuzz.trapmf(companyPerf.universe, [0.0, 0.0, 0.2, 0.4])\n",
        "companyPerf['normal'] = fuzz.trimf(companyPerf.universe, [0.2, 0.4, 0.6])\n",
        "companyPerf['good'] = fuzz.trimf(companyPerf.universe, [0.4, 0.6, 0.8])\n",
        "companyPerf['veryGood'] = fuzz.trapmf(companyPerf.universe, [0.6, 0.8, 1.0, 1.0])\n",
        "\n",
        "companyPerf.view()"
      ],
      "metadata": {
        "colab": {
          "base_uri": "https://localhost:8080/",
          "height": 281
        },
        "id": "8Xm37QCQEN9m",
        "outputId": "c51391d4-924f-4c23-cd7e-ce2e3ddf6405"
      },
      "execution_count": 27,
      "outputs": [
        {
          "output_type": "display_data",
          "data": {
            "image/png": "[encoded data removed]",
            "text/plain": [
              "<Figure size 432x288 with 1 Axes>"
            ]
          },
          "metadata": {
            "needs_background": "light"
          }
        }
      ]
    },
    {
      "cell_type": "markdown",
      "source": [
        "## FUZZY RULE"
      ],
      "metadata": {
        "id": "eIwVugO-J2G0"
      }
    },
    {
      "cell_type": "code",
      "source": [
        "rule1 = ctrl.Rule(finance['veryGood'] & customer['veryGood'] & businessProcess['veryGood'] & learningGrowth['veryGood'], companyPerf['veryGood'])\n",
        "rule2 = ctrl.Rule(finance['veryGood'] & customer['veryGood'] & businessProcess['veryGood'] & learningGrowth['good'], companyPerf['veryGood'])\n",
        "rule3 = ctrl.Rule(finance['veryGood'] & customer['veryGood'] & businessProcess['good'] & learningGrowth['veryGood'], companyPerf['veryGood'])\n",
        "rule4 = ctrl.Rule(finance['veryGood'] & customer['veryGood'] & businessProcess['good'] & learningGrowth['good'], companyPerf['good'])\n",
        "rule5 = ctrl.Rule(finance['veryGood'] & customer['good'] & businessProcess['veryGood'] & learningGrowth['veryGood'], companyPerf['veryGood'])\n",
        "rule6 = ctrl.Rule(finance['veryGood'] & customer['good'] & businessProcess['veryGood'] & learningGrowth['good'], companyPerf['good'])\n",
        "rule7 = ctrl.Rule(finance['veryGood'] & customer['good'] & businessProcess['good'] & learningGrowth['veryGood'], companyPerf['good'])\n",
        "rule8 = ctrl.Rule(finance['veryGood'] & customer['good'] & businessProcess['good'] & learningGrowth['good'], companyPerf['good'])\n",
        "rule9 = ctrl.Rule(finance['good'] & customer['veryGood'] & businessProcess['veryGood'] & learningGrowth['veryGood'], companyPerf['veryGood'])\n",
        "rule10 = ctrl.Rule(finance['good'] & customer['veryGood'] & businessProcess['veryGood'] & learningGrowth['good'], companyPerf['good'])\n",
        "rule11 = ctrl.Rule(finance['good'] & customer['veryGood'] & businessProcess['good'] & learningGrowth['veryGood'], companyPerf['good'])\n",
        "rule12 = ctrl.Rule(finance['good'] & customer['veryGood'] & businessProcess['good'] & learningGrowth['good'], companyPerf['good'])\n",
        "rule13 = ctrl.Rule(finance['good'] & customer['good'] & businessProcess['veryGood'] & learningGrowth['veryGood'], companyPerf['good'])\n",
        "rule14 = ctrl.Rule(finance['good'] & customer['good'] & businessProcess['veryGood'] & learningGrowth['good'], companyPerf['good'])\n",
        "rule15 = ctrl.Rule(finance['good'] & customer['good'] & businessProcess['good'] & learningGrowth['veryGood'], companyPerf['good'])\n",
        "rule16 = ctrl.Rule(finance['good'] & customer['good'] & businessProcess['good'] & learningGrowth['good'], companyPerf['good'])\n",
        "\n",
        "\n",
        "rule1.view()\n",
        "rule2.view()"
      ],
      "metadata": {
        "colab": {
          "base_uri": "https://localhost:8080/",
          "height": 514
        },
        "id": "-joF3g5NEXzu",
        "outputId": "e57868b0-cf30-4ac3-bcdc-9f9d768b38b7"
      },
      "execution_count": 28,
      "outputs": [
        {
          "output_type": "execute_result",
          "data": {
            "text/plain": [
              "(<Figure size 432x288 with 1 Axes>,\n",
              " <matplotlib.axes._subplots.AxesSubplot at 0x7fee443d8ad0>)"
            ]
          },
          "metadata": {},
          "execution_count": 28
        },
        {
          "output_type": "display_data",
          "data": {
            "image/png": "[encoded data removed]",
            "text/plain": [
              "<Figure size 432x288 with 1 Axes>"
            ]
          },
          "metadata": {}
        },
        {
          "output_type": "display_data",
          "data": {
            "image/png": "[encoded data removed]",
            "text/plain": [
              "<Figure size 432x288 with 1 Axes>"
            ]
          },
          "metadata": {}
        }
      ]
    },
    {
      "cell_type": "markdown",
      "source": [
        "## RULE APPLICATION"
      ],
      "metadata": {
        "id": "HXGIxAgaKKUk"
      }
    },
    {
      "cell_type": "code",
      "source": [
        "performancepoint_ctrl = ctrl.ControlSystem([rule1, rule2, rule3, rule4, rule5, rule6, rule7, rule8, rule9, rule10, rule11, rule12, rule13, rule14, rule15, rule16])"
      ],
      "metadata": {
        "id": "vsCwCzPoHhCl"
      },
      "execution_count": 29,
      "outputs": []
    },
    {
      "cell_type": "code",
      "source": [
        "performancePoint = ctrl.ControlSystemSimulation(performancepoint_ctrl)"
      ],
      "metadata": {
        "id": "ImZMVWsRH_2M"
      },
      "execution_count": 30,
      "outputs": []
    },
    {
      "cell_type": "markdown",
      "source": [
        "## DEFUZZIFICATION (RESULT A)"
      ],
      "metadata": {
        "id": "Df_dygrpKXY5"
      }
    },
    {
      "cell_type": "code",
      "source": [
        "for i, arr in enumerate(dataBSC):\n",
        "  performancePoint.input['finance'] = arr[0]\n",
        "  performancePoint.input['customer'] = arr[1]\n",
        "  performancePoint.input['businessProcess'] = arr[2]\n",
        "  performancePoint.input['learningGrowth'] = arr[3]\n",
        "  performancePoint.compute()\n",
        "\n",
        "  # companyPerf.view(sim=performancePoint)\n",
        "  print(\"Performance \", i+1, \" : \", performancePoint.output['companyPerf'])"
      ],
      "metadata": {
        "colab": {
          "base_uri": "https://localhost:8080/"
        },
        "id": "zvVq_Oi_Lscl",
        "outputId": "17052dff-cb87-4cfa-928a-07f1ed8eaf99"
      },
      "execution_count": 33,
      "outputs": [
        {
          "output_type": "stream",
          "name": "stdout",
          "text": [
            "Performance  1  :  0.8470491803278688\n",
            "Performance  2  :  0.827587412587413\n",
            "Performance  3  :  0.827587412587413\n",
            "Performance  4  :  0.7280044843049325\n",
            "Performance  5  :  0.8470491803278688\n",
            "Performance  6  :  0.827587412587413\n",
            "Performance  7  :  0.827587412587413\n",
            "Performance  8  :  0.7280044843049325\n",
            "Performance  9  :  0.827587412587413\n",
            "Performance  10  :  0.8470491803278688\n",
            "Performance  11  :  0.827587412587413\n",
            "Performance  12  :  0.8470491803278688\n",
            "Performance  13  :  0.827587412587413\n",
            "Performance  14  :  0.7280044843049325\n"
          ]
        }
      ]
    },
    {
      "cell_type": "markdown",
      "source": [
        "## DETERMINE BAD, NORMAL, GOOD, VERY GOOD EACH PERSPECTIVE"
      ],
      "metadata": {
        "id": "zgH0q7Om6h41"
      }
    },
    {
      "cell_type": "code",
      "source": [
        "x_range = np.arange(0.0, 1.1, 0.1)\n",
        "range_bad = fuzz.trapmf(x_range, [0.0, 0.0, 0.2, 0.4])\n",
        "range_normal = fuzz.trimf(x_range, [0.2, 0.4, 0.6])\n",
        "range_good = fuzz.trimf(x_range, [0.4, 0.6, 0.8])\n",
        "range_veryGood = fuzz.trapmf(x_range, [0.6, 0.8, 1.0, 1.0])\n",
        "\n",
        "for index, i in enumerate(dataBSC):\n",
        "  print(\"YEAR \", index+1)\n",
        "\n",
        "  # FINANCE\n",
        "  bad_point_f = fuzz.interp_membership(x_range, range_bad, i[0])\n",
        "  normal_point_f = fuzz.interp_membership(x_range, range_normal, i[0])\n",
        "  good_point_f = fuzz.interp_membership(x_range, range_good, i[0])\n",
        "  veryGood_point_f = fuzz.interp_membership(x_range, range_veryGood, i[0])\n",
        "\n",
        "  if bad_point_f < 0.001: \n",
        "    bad_point_f = 0.0\n",
        "  if normal_point_f < 0.001: \n",
        "    normal_point_f = 0.0\n",
        "  if good_point_f < 0.001: \n",
        "    good_point_f = 0.0\n",
        "  if veryGood_point_f < 0.001: \n",
        "    veryGood_point_f = 0.0\n",
        "\n",
        "  print(\"Bad F: \", bad_point_f, \", Normal F: \", normal_point_f, \", Good F: \", good_point_f, \", Very Good F: \", veryGood_point_f)\n",
        "\n",
        "  # Customer\n",
        "  bad_point_c = fuzz.interp_membership(x_range, range_bad, i[1])\n",
        "  normal_point_c = fuzz.interp_membership(x_range, range_normal, i[1])\n",
        "  good_point_c = fuzz.interp_membership(x_range, range_good, i[1])\n",
        "  veryGood_point_c = fuzz.interp_membership(x_range, range_veryGood, i[1])\n",
        "\n",
        "  if bad_point_c < 0.001: \n",
        "    bad_point_c = 0.0\n",
        "  if normal_point_c < 0.001: \n",
        "    normal_point_c = 0.0\n",
        "  if good_point_c < 0.001: \n",
        "    good_point_c = 0.0\n",
        "  if veryGood_point_c < 0.001: \n",
        "    veryGood_point_c = 0.0\n",
        "\n",
        "  print(\"Bad C: \", bad_point_c, \", Normal C: \", normal_point_c, \", Good C: \", good_point_c, \", Very Good C: \", veryGood_point_c)\n",
        "\n",
        "  # Business Process\n",
        "  bad_point_bp = fuzz.interp_membership(x_range, range_bad, i[2])\n",
        "  normal_point_bp = fuzz.interp_membership(x_range, range_normal, i[2])\n",
        "  good_point_bp = fuzz.interp_membership(x_range, range_good, i[2])\n",
        "  veryGood_point_bp = fuzz.interp_membership(x_range, range_veryGood, i[2])\n",
        "\n",
        "  if bad_point_bp < 0.001: \n",
        "    bad_point_bp = 0.0\n",
        "  if normal_point_bp < 0.001: \n",
        "    normal_point_bp = 0.0\n",
        "  if good_point_bp < 0.001: \n",
        "    good_point_bp = 0.0\n",
        "  if veryGood_point_bp < 0.001: \n",
        "    veryGood_point_bp = 0.0\n",
        "\n",
        "  print(\"Bad BP: \", bad_point_bp, \", Normal BP: \", normal_point_bp, \", Good BP: \", good_point_bp, \", Very Good BP: \", veryGood_point_bp)\n",
        "  \n",
        "  # Learning Growth\n",
        "  bad_point_lg = fuzz.interp_membership(x_range, range_bad, i[3])\n",
        "  normal_point_lg = fuzz.interp_membership(x_range, range_normal, i[3])\n",
        "  good_point_lg = fuzz.interp_membership(x_range, range_good, i[3])\n",
        "  veryGood_point_lg = fuzz.interp_membership(x_range, range_veryGood, i[3])\n",
        "\n",
        "  if bad_point_lg < 0.001: \n",
        "    bad_point_lg = 0.0\n",
        "  if normal_point_lg < 0.001: \n",
        "    normal_point_lg = 0.0\n",
        "  if good_point_lg < 0.001: \n",
        "    good_point_lg = 0.0\n",
        "  if veryGood_point_lg < 0.001: \n",
        "    veryGood_point_lg = 0.0\n",
        "\n",
        "  print(\"Bad LG: \", bad_point_lg, \", Normal LG: \", normal_point_lg, \", Good LG: \", good_point_lg, \", Very Good LG: \", veryGood_point_lg)\n",
        "\n",
        "  print(\"\")"
      ],
      "metadata": {
        "colab": {
          "base_uri": "https://localhost:8080/"
        },
        "id": "4R5eHsXxL1vr",
        "outputId": "a3008573-9ee5-4780-e7ca-0909e6b6f947"
      },
      "execution_count": 9,
      "outputs": [
        {
          "output_type": "stream",
          "name": "stdout",
          "text": [
            "YEAR  1\n",
            "Bad F:  0.0 , Normal F:  0.0 , Good F:  0.0 , Very Good F:  1.0\n",
            "Bad C:  0.0 , Normal C:  0.0 , Good C:  0.0 , Very Good C:  1.0\n",
            "Bad BP:  0.0 , Normal BP:  0.0 , Good BP:  0.0 , Very Good BP:  1.0\n",
            "Bad LG:  0.0 , Normal LG:  0.0 , Good LG:  0.0 , Very Good LG:  1.0\n",
            "\n",
            "YEAR  2\n",
            "Bad F:  0.0 , Normal F:  0.0 , Good F:  0.0 , Very Good F:  1.0\n",
            "Bad C:  0.0 , Normal C:  0.0 , Good C:  0.0 , Very Good C:  1.0\n",
            "Bad BP:  0.0 , Normal BP:  0.0 , Good BP:  0.5000000000000002 , Very Good BP:  0.4999999999999996\n",
            "Bad LG:  0.0 , Normal LG:  0.0 , Good LG:  0.0 , Very Good LG:  1.0\n",
            "\n",
            "YEAR  3\n",
            "Bad F:  0.0 , Normal F:  0.0 , Good F:  0.0 , Very Good F:  1.0\n",
            "Bad C:  0.0 , Normal C:  0.0 , Good C:  0.5000000000000002 , Very Good C:  0.4999999999999996\n",
            "Bad BP:  0.0 , Normal BP:  0.0 , Good BP:  0.0 , Very Good BP:  1.0\n",
            "Bad LG:  0.0 , Normal LG:  0.0 , Good LG:  0.0 , Very Good LG:  1.0\n",
            "\n",
            "YEAR  4\n",
            "Bad F:  0.0 , Normal F:  0.0 , Good F:  0.5000000000000002 , Very Good F:  0.4999999999999996\n",
            "Bad C:  0.0 , Normal C:  0.0 , Good C:  0.5000000000000002 , Very Good C:  0.4999999999999996\n",
            "Bad BP:  0.0 , Normal BP:  0.0 , Good BP:  0.0 , Very Good BP:  1.0\n",
            "Bad LG:  0.0 , Normal LG:  0.0 , Good LG:  0.0 , Very Good LG:  1.0\n",
            "\n",
            "YEAR  5\n",
            "Bad F:  0.0 , Normal F:  0.0 , Good F:  0.0 , Very Good F:  1.0\n",
            "Bad C:  0.0 , Normal C:  0.0 , Good C:  0.0 , Very Good C:  1.0\n",
            "Bad BP:  0.0 , Normal BP:  0.0 , Good BP:  0.0 , Very Good BP:  1.0\n",
            "Bad LG:  0.0 , Normal LG:  0.0 , Good LG:  0.0 , Very Good LG:  1.0\n",
            "\n",
            "YEAR  6\n",
            "Bad F:  0.0 , Normal F:  0.0 , Good F:  0.0 , Very Good F:  1.0\n",
            "Bad C:  0.0 , Normal C:  0.0 , Good C:  0.0 , Very Good C:  1.0\n",
            "Bad BP:  0.0 , Normal BP:  0.0 , Good BP:  0.0 , Very Good BP:  1.0\n",
            "Bad LG:  0.0 , Normal LG:  0.0 , Good LG:  0.5000000000000002 , Very Good LG:  0.4999999999999996\n",
            "\n",
            "YEAR  7\n",
            "Bad F:  0.0 , Normal F:  0.0 , Good F:  0.0 , Very Good F:  1.0\n",
            "Bad C:  0.0 , Normal C:  0.0 , Good C:  0.0 , Very Good C:  1.0\n",
            "Bad BP:  0.0 , Normal BP:  0.0 , Good BP:  0.5000000000000002 , Very Good BP:  0.4999999999999996\n",
            "Bad LG:  0.0 , Normal LG:  0.0 , Good LG:  0.0 , Very Good LG:  1.0\n",
            "\n",
            "YEAR  8\n",
            "Bad F:  0.0 , Normal F:  0.0 , Good F:  0.5000000000000002 , Very Good F:  0.4999999999999996\n",
            "Bad C:  0.0 , Normal C:  0.0 , Good C:  0.5000000000000002 , Very Good C:  0.4999999999999996\n",
            "Bad BP:  0.0 , Normal BP:  0.0 , Good BP:  0.5000000000000002 , Very Good BP:  0.4999999999999996\n",
            "Bad LG:  0.0 , Normal LG:  0.0 , Good LG:  0.0 , Very Good LG:  1.0\n",
            "\n",
            "YEAR  9\n",
            "Bad F:  0.0 , Normal F:  0.0 , Good F:  0.5000000000000002 , Very Good F:  0.4999999999999996\n",
            "Bad C:  0.0 , Normal C:  0.0 , Good C:  0.0 , Very Good C:  1.0\n",
            "Bad BP:  0.0 , Normal BP:  0.0 , Good BP:  0.0 , Very Good BP:  1.0\n",
            "Bad LG:  0.0 , Normal LG:  0.0 , Good LG:  0.0 , Very Good LG:  1.0\n",
            "\n",
            "YEAR  10\n",
            "Bad F:  0.0 , Normal F:  0.0 , Good F:  0.9999999999999989 , Very Good F:  0.0\n",
            "Bad C:  0.0 , Normal C:  0.0 , Good C:  0.0 , Very Good C:  1.0\n",
            "Bad BP:  0.0 , Normal BP:  0.0 , Good BP:  0.0 , Very Good BP:  1.0\n",
            "Bad LG:  0.0 , Normal LG:  0.0 , Good LG:  0.0 , Very Good LG:  1.0\n",
            "\n",
            "YEAR  11\n",
            "Bad F:  0.0 , Normal F:  0.0 , Good F:  0.0 , Very Good F:  1.0\n",
            "Bad C:  0.0 , Normal C:  0.0 , Good C:  0.0 , Very Good C:  1.0\n",
            "Bad BP:  0.0 , Normal BP:  0.0 , Good BP:  0.0 , Very Good BP:  1.0\n",
            "Bad LG:  0.0 , Normal LG:  0.0 , Good LG:  0.5000000000000002 , Very Good LG:  0.4999999999999996\n",
            "\n",
            "YEAR  12\n",
            "Bad F:  0.0 , Normal F:  0.0 , Good F:  0.9999999999999989 , Very Good F:  0.0\n",
            "Bad C:  0.0 , Normal C:  0.0 , Good C:  0.0 , Very Good C:  1.0\n",
            "Bad BP:  0.0 , Normal BP:  0.0 , Good BP:  0.0 , Very Good BP:  1.0\n",
            "Bad LG:  0.0 , Normal LG:  0.0 , Good LG:  0.0 , Very Good LG:  1.0\n",
            "\n",
            "YEAR  13\n",
            "Bad F:  0.0 , Normal F:  0.0 , Good F:  0.0 , Very Good F:  1.0\n",
            "Bad C:  0.0 , Normal C:  0.0 , Good C:  0.0 , Very Good C:  1.0\n",
            "Bad BP:  0.0 , Normal BP:  0.0 , Good BP:  0.5000000000000002 , Very Good BP:  0.4999999999999996\n",
            "Bad LG:  0.0 , Normal LG:  0.0 , Good LG:  0.0 , Very Good LG:  1.0\n",
            "\n",
            "YEAR  14\n",
            "Bad F:  0.0 , Normal F:  0.0 , Good F:  0.5000000000000002 , Very Good F:  0.4999999999999996\n",
            "Bad C:  0.0 , Normal C:  0.0 , Good C:  0.0 , Very Good C:  1.0\n",
            "Bad BP:  0.0 , Normal BP:  0.0 , Good BP:  0.9999999999999989 , Very Good BP:  0.0\n",
            "Bad LG:  0.0 , Normal LG:  0.0 , Good LG:  0.0 , Very Good LG:  1.0\n",
            "\n"
          ]
        }
      ]
    },
    {
      "cell_type": "code",
      "source": [
        "x_range = np.arange(0.0, 1.1, 0.1)\n",
        "range_bad = fuzz.trapmf(x_range, [0.0, 0.0, 0.2, 0.4])\n",
        "range_normal = fuzz.trimf(x_range, [0.2, 0.4, 0.6])\n",
        "range_good = fuzz.trimf(x_range, [0.4, 0.6, 0.8])\n",
        "range_veryGood = fuzz.trapmf(x_range, [0.6, 0.8, 1.0, 1.0])\n",
        "\n",
        "bad_point_f = fuzz.interp_membership(x_range, range_bad, 0.65)\n",
        "normal_point_f = fuzz.interp_membership(x_range, range_normal, 0.65)\n",
        "good_point_f = fuzz.interp_membership(x_range, range_good, 0.65)\n",
        "veryGood_point_f = fuzz.interp_membership(x_range, range_veryGood, 0.65)\n",
        "print(\"Bad F: \", bad_point_f, \",Normal F: \", normal_point_f, \",Good F: \", good_point_f, \",Very Good F: \", veryGood_point_f)"
      ],
      "metadata": {
        "colab": {
          "base_uri": "https://localhost:8080/"
        },
        "id": "5M8OMqjqrsXI",
        "outputId": "08175eea-2821-4d31-f055-2466fc07e0d3"
      },
      "execution_count": 10,
      "outputs": [
        {
          "output_type": "stream",
          "name": "stdout",
          "text": [
            "Bad F:  0.0 ,Normal F:  0.0 ,Good F:  0.7499999999999999 ,Very Good F:  0.25000000000000006\n"
          ]
        }
      ]
    },
    {
      "cell_type": "code",
      "source": [
        "performancePoint.input['finance'] = 0.8\n",
        "performancePoint.input['customer'] = 0.8\n",
        "performancePoint.input['businessProcess'] = 0.8\n",
        "performancePoint.input['learningGrowth'] = 0.8\n",
        "performancePoint.compute()\n",
        "\n",
        "companyPerf.view(sim=performancePoint)\n",
        "  # print(i, arr, arr[0], arr[1], arr[2], arr[3])\n",
        "print(\"Performance : \", performancePoint.output['companyPerf'])"
      ],
      "metadata": {
        "colab": {
          "base_uri": "https://localhost:8080/",
          "height": 298
        },
        "id": "ygnJRgxhE2Uz",
        "outputId": "77bbbab2-53b8-4532-9b21-c6f2d491ec54"
      },
      "execution_count": 11,
      "outputs": [
        {
          "output_type": "stream",
          "name": "stdout",
          "text": [
            "Performance :  0.8470491803278688\n"
          ]
        },
        {
          "output_type": "display_data",
          "data": {
            "image/png": "[encoded data removed]",
            "text/plain": [
              "<Figure size 432x288 with 1 Axes>"
            ]
          },
          "metadata": {
            "needs_background": "light"
          }
        }
      ]
    },
    {
      "cell_type": "markdown",
      "source": [
        "# BLCA"
      ],
      "metadata": {
        "id": "DSpdG9_3KrX3"
      }
    },
    {
      "cell_type": "markdown",
      "source": [
        "## Calculate A"
      ],
      "metadata": {
        "id": "qTHV0Pcb7Vrj"
      }
    },
    {
      "cell_type": "markdown",
      "source": [
        "### Without Fuzzy"
      ],
      "metadata": {
        "id": "ky9BCQdh_ZJY"
      }
    },
    {
      "cell_type": "code",
      "source": [
        "# def calculateAccumulatedAvg(finance, customer, businessProcess, learning):\n",
        "#     accumulatedAvg = (finance + customer + businessProcess + learning) / 4\n",
        "#     return [finance, customer, businessProcess, learning, accumulatedAvg]"
      ],
      "metadata": {
        "id": "GBr-vWNQTHzg"
      },
      "execution_count": 13,
      "outputs": []
    },
    {
      "cell_type": "code",
      "source": [
        "# Count Average (A) for each year\n",
        "# def addEnv(dataBsc):\n",
        "#     bsc_env = []\n",
        "#     for x in dataBsc:\n",
        "#         bsc_env.append(calculateAccumulatedAvg(x[0], x[1], x[2], x[3]))\n",
        "#     return bsc_env\n",
        "\n",
        "# print(addEnv(dataBSC))"
      ],
      "metadata": {
        "id": "iIHZ4yCyK1Ss"
      },
      "execution_count": 14,
      "outputs": []
    },
    {
      "cell_type": "markdown",
      "source": [
        "### WITH FUZZY"
      ],
      "metadata": {
        "id": "01PlIKTO_deQ"
      }
    },
    {
      "cell_type": "code",
      "source": [
        "def fuzzyLogic(dataBSC):\n",
        "  dataFuzzyA = []\n",
        "  for index, x in enumerate(dataBSC):\n",
        "    performancePoint.input['finance'] = x[0]\n",
        "    performancePoint.input['customer'] = x[1]\n",
        "    performancePoint.input['businessProcess'] = x[2]\n",
        "    performancePoint.input['learningGrowth'] = x[3]\n",
        "    performancePoint.compute()\n",
        "    dataFuzzyA.append(performancePoint.output['companyPerf'])\n",
        "    # print(\"A\", index+1, \": \", performancePoint.output['companyPerf'])\n",
        "\n",
        "  return dataFuzzyA\n",
        "\n",
        "dataFuzzy = fuzzyLogic(dataBSC)\n",
        "for i in range(len(dataFuzzy)):\n",
        "  print(\"A Year \", i+1, \" : \", dataFuzzy[i])"
      ],
      "metadata": {
        "colab": {
          "base_uri": "https://localhost:8080/"
        },
        "id": "dQwyUVU4M72Q",
        "outputId": "a0b0aa34-3bda-4409-ceaf-d40ef0d05cc5"
      },
      "execution_count": 57,
      "outputs": [
        {
          "output_type": "stream",
          "name": "stdout",
          "text": [
            "A Year  1  :  0.8470491803278688\n",
            "A Year  2  :  0.827587412587413\n",
            "A Year  3  :  0.827587412587413\n",
            "A Year  4  :  0.7280044843049325\n",
            "A Year  5  :  0.8470491803278688\n",
            "A Year  6  :  0.827587412587413\n",
            "A Year  7  :  0.827587412587413\n",
            "A Year  8  :  0.7280044843049325\n",
            "A Year  9  :  0.827587412587413\n",
            "A Year  10  :  0.8470491803278688\n",
            "A Year  11  :  0.827587412587413\n",
            "A Year  12  :  0.8470491803278688\n",
            "A Year  13  :  0.827587412587413\n",
            "A Year  14  :  0.7280044843049325\n"
          ]
        }
      ]
    },
    {
      "cell_type": "markdown",
      "source": [
        "## Calculate AA"
      ],
      "metadata": {
        "id": "R32BHr367Ykj"
      }
    },
    {
      "cell_type": "code",
      "source": [
        "# Count Accumulate Average (AA) for spesific year\n",
        "def calculateAA(start, currYear, data):\n",
        "    # data = fuzzyLogic(dataBSC)\n",
        "    AA = 0.0\n",
        "    sum_AA = 0.0\n",
        "    for x in range(start, currYear):\n",
        "        sum_AA += data[x]\n",
        "    if start == 0:\n",
        "        AA = sum_AA / currYear\n",
        "    else:\n",
        "        AA = sum_AA\n",
        "    return AA\n",
        "\n",
        "for i in range(0,14):\n",
        "  print(\"AA Year \", i+1, \" : \", calculateAA(0, i+1, fuzzyLogic(dataBSC)))"
      ],
      "metadata": {
        "colab": {
          "base_uri": "https://localhost:8080/"
        },
        "id": "qWP8QOypLAEn",
        "outputId": "73927b34-69f0-4f2c-a09f-85f3fa7d1d8f"
      },
      "execution_count": 75,
      "outputs": [
        {
          "output_type": "stream",
          "name": "stdout",
          "text": [
            "AA Year  1  :  0.8470491803278688\n",
            "AA Year  2  :  0.8373182964576409\n",
            "AA Year  3  :  0.8340746685008983\n",
            "AA Year  4  :  0.8075571224519068\n",
            "AA Year  5  :  0.8154555340270992\n",
            "AA Year  6  :  0.8174775137871514\n",
            "AA Year  7  :  0.8189217850443316\n",
            "AA Year  8  :  0.8075571224519067\n",
            "AA Year  9  :  0.8097827102447407\n",
            "AA Year  10  :  0.8135093572530534\n",
            "AA Year  11  :  0.8147891804652679\n",
            "AA Year  12  :  0.8174775137871513\n",
            "AA Year  13  :  0.8182551983102483\n",
            "AA Year  14  :  0.8118087187384401\n"
          ]
        }
      ]
    },
    {
      "cell_type": "markdown",
      "source": [
        "## Egg Contribution"
      ],
      "metadata": {
        "id": "KjLq8wOg7dJR"
      }
    },
    {
      "cell_type": "code",
      "source": [
        "# Get External Factor\n",
        "def generateExternalFactorEgg(rouletteWheel):\n",
        "    # Negative Factors\n",
        "    N_NEUTRAL = 0.0 # neutral parameter\n",
        "    N_COMPETITION = 0.25 # competition parameter\n",
        "    N_FINANCIAL = 0.25 # financial parameter\n",
        "    N_RECESSION = 0.5 # recession parameter\n",
        "\n",
        "    # Probability Factors\n",
        "    P_NEUTRAL = 0.2 # neutral parameter\n",
        "    P_COMPETITION = 0.45 # competition parameter\n",
        "    P_FINANCIAL = 0.7 # financial parameter\n",
        "    P_RECESSION = 1.0 # recession parameter\n",
        "\n",
        "    neutral = 0\n",
        "    financial = 0\n",
        "    competition = 0\n",
        "    recession = 0\n",
        "    contribution = 0.0\n",
        "        \n",
        "    if (rouletteWheel >= 0 and rouletteWheel <= P_NEUTRAL): \n",
        "        neutral = 1\n",
        "    elif (rouletteWheel > P_NEUTRAL and rouletteWheel <= P_FINANCIAL): \n",
        "        financial = 1\n",
        "    elif (rouletteWheel > P_FINANCIAL and rouletteWheel <= P_COMPETITION): \n",
        "        competition = 1\n",
        "    else: \n",
        "        recession = 1\n",
        "        \n",
        "    contribution = (neutral * N_NEUTRAL + financial * N_FINANCIAL + competition * N_COMPETITION + recession * N_RECESSION) / 4\n",
        "\n",
        "    return -1 * contribution\n",
        "\n",
        "# print(generateExternalFactorEgg(0.7865))"
      ],
      "metadata": {
        "id": "fKLYvfMrLFcP"
      },
      "execution_count": 66,
      "outputs": []
    },
    {
      "cell_type": "code",
      "source": [
        "# Count Contribution (Cont) from egg state for each year\n",
        "def getContributionEgg(dataExtEgg):\n",
        "    bsc_cont_egg = []\n",
        "    for x in dataExtEgg:\n",
        "        bsc_cont_egg.append(generateExternalFactorEgg(x))\n",
        "        # print(x)\n",
        "        # print(bsc_cont_egg)\n",
        "    return bsc_cont_egg\n",
        "\n",
        "contributionEgg = getContributionEgg(dataExtEgg)\n",
        "for i in range(len(contributionEgg)):\n",
        "  print(\"Egg Contribution Year \", i+1, \" : \", contributionEgg[i])"
      ],
      "metadata": {
        "colab": {
          "base_uri": "https://localhost:8080/"
        },
        "id": "r9g-LiM-LCOd",
        "outputId": "7a45d870-1b6d-4d9c-f635-c1d67e390f96"
      },
      "execution_count": 67,
      "outputs": [
        {
          "output_type": "stream",
          "name": "stdout",
          "text": [
            "Egg Contribution Year  1  :  -0.0\n",
            "Egg Contribution Year  2  :  -0.0625\n",
            "Egg Contribution Year  3  :  -0.125\n",
            "Egg Contribution Year  4  :  -0.125\n"
          ]
        }
      ]
    },
    {
      "cell_type": "markdown",
      "source": [
        "## Caterpillar Contribution"
      ],
      "metadata": {
        "id": "GiVBvnT27fpT"
      }
    },
    {
      "cell_type": "code",
      "source": [
        "# Get External Factor\n",
        "def generateExternalFactorCaterpillar(rouletteWheel):\n",
        "    # Negative - Positive Parameter\n",
        "    N_NEUTRAL = 0.0 # neutral parameter negative\n",
        "    N_COMPETITION = 0.17 # competition parameter negative\n",
        "    N_FINANCIAL = 0.17 # financial parameter negative\n",
        "    N_RECESSION = 0.33 # recession parameter negative\n",
        "    N_ECONOMIC_GROWTH = 0.33 # economic growth parameter positive\n",
        "\n",
        "    # Probability Parameter\n",
        "    P_NEUTRAL = 0.1 # neutral parameter probability\n",
        "    P_COMPETITION = 0.27 # competition parameter probability\n",
        "    P_FINANCIAL = 0.44 # financial parameter probability\n",
        "    P_RECESSION = 0.72 # recession parameter probability\n",
        "    P_ECONOMIC_GROWTH = 1.0 # economic growth parameter probability\n",
        "    \n",
        "    neutral = 0\n",
        "    financial = 0\n",
        "    competition = 0\n",
        "    recession = 0\n",
        "    economicGrowth = 0\n",
        "\n",
        "    if (rouletteWheel >= 0 and rouletteWheel <= P_NEUTRAL):\n",
        "        neutral = 1\n",
        "    elif (rouletteWheel > P_NEUTRAL and rouletteWheel <= P_FINANCIAL):\n",
        "        financial = 1\n",
        "    elif (rouletteWheel > P_FINANCIAL and rouletteWheel <= P_COMPETITION):\n",
        "        competition = 1\n",
        "    elif (rouletteWheel > P_COMPETITION and rouletteWheel <= P_RECESSION):\n",
        "        recession = 1\n",
        "    else:\n",
        "        economicGrowth = 1\n",
        "    \n",
        "    if economicGrowth == 1:\n",
        "        return economicGrowth / 17\n",
        "    else:\n",
        "        return -1 *(neutral * N_NEUTRAL + financial * N_FINANCIAL + competition * N_COMPETITION + recession * N_RECESSION) / 17"
      ],
      "metadata": {
        "id": "sDnTMRc3LMWx"
      },
      "execution_count": 18,
      "outputs": []
    },
    {
      "cell_type": "code",
      "source": [
        "# Get External Factor Caterpillar (Contribution)\n",
        "def getContributionCaterpillar(dataExtCat):\n",
        "    bsc_cont_cat = []\n",
        "    for x in dataExtCat:\n",
        "        bsc_cont_cat.append(generateExternalFactorCaterpillar(x))\n",
        "    return bsc_cont_cat\n",
        "\n",
        "contributionCaterpillar = getContributionCaterpillar(dataExtCat)\n",
        "for i in range(len(contributionCaterpillar)):\n",
        "  print(\"Caterpillar Contribution Year \", i+5, \" : \", contributionCaterpillar[i])"
      ],
      "metadata": {
        "colab": {
          "base_uri": "https://localhost:8080/"
        },
        "id": "9hRkhdYCLR-N",
        "outputId": "1d8ba3b0-3392-4a6b-a8ae-48bbc3d86d69"
      },
      "execution_count": 65,
      "outputs": [
        {
          "output_type": "stream",
          "name": "stdout",
          "text": [
            "Caterpillar Contribution Year  5  :  0.058823529411764705\n",
            "Caterpillar Contribution Year  6  :  -0.01\n",
            "Caterpillar Contribution Year  7  :  -0.01\n",
            "Caterpillar Contribution Year  8  :  0.058823529411764705\n",
            "Caterpillar Contribution Year  9  :  -0.019411764705882354\n",
            "Caterpillar Contribution Year  10  :  0.058823529411764705\n",
            "Caterpillar Contribution Year  11  :  0.058823529411764705\n",
            "Caterpillar Contribution Year  12  :  -0.019411764705882354\n",
            "Caterpillar Contribution Year  13  :  -0.019411764705882354\n",
            "Caterpillar Contribution Year  14  :  -0.0\n"
          ]
        }
      ]
    },
    {
      "cell_type": "markdown",
      "source": [
        "## Average A from Egg Phase"
      ],
      "metadata": {
        "id": "YQaY29PU7kLf"
      }
    },
    {
      "cell_type": "code",
      "source": [
        "# Get Average A from Egg Phase (AA for Egg Phase)\n",
        "def getAvgAEgg(data):\n",
        "    # data = fuzzyLogic(dataBSC)\n",
        "    avg_A = 0.0\n",
        "    for x in range(4):\n",
        "        avg_A += data[x]\n",
        "    avg_A /= 4\n",
        "    return avg_A\n",
        "\n",
        "print(\"AA for Egg Phase : \", getAvgAEgg(fuzzyLogic(dataBSC)))"
      ],
      "metadata": {
        "colab": {
          "base_uri": "https://localhost:8080/"
        },
        "id": "d-kFxsRvLUqN",
        "outputId": "9c310aee-7520-479a-e5f5-4054d1c8788c"
      },
      "execution_count": 76,
      "outputs": [
        {
          "output_type": "stream",
          "name": "stdout",
          "text": [
            "AA for Egg Phase :  0.8075571224519068\n"
          ]
        }
      ]
    },
    {
      "cell_type": "markdown",
      "source": [
        "## Calculate Q (Company Performance)"
      ],
      "metadata": {
        "id": "Z9d1_zmR7p5x"
      }
    },
    {
      "cell_type": "code",
      "source": [
        "# Calculate Company Performance Per Year\n",
        "def calculateCompanyPerformance_withCaterpillar(currYear, dataBSC):\n",
        "    companyPerformance = 0.0\n",
        "    if currYear <= 4:  # Egg\n",
        "        companyPerformance = calculateAA(0, currYear, fuzzyLogic(dataBSC))  # Get Q\n",
        "        # Get Contribution - HARD CODE DUMMY DATA\n",
        "        contEgg = getContributionEgg(dataExtEgg)\n",
        "        for x in range(currYear):\n",
        "            companyPerformance += contEgg[x]\n",
        "    else:  # Caterpillar\n",
        "        companyPerformance = (calculateAA(4, currYear, fuzzyLogic(dataBSC)) + getAvgAEgg(fuzzyLogic(dataBSC))) / (currYear - 4 + 1)  # Get Q\n",
        "        # Get Contribution - HARD CODE DUMMY DATA\n",
        "        contCat = getContributionCaterpillar(dataExtCat)\n",
        "        for y in range(currYear-4):\n",
        "            companyPerformance += contCat[y]\n",
        "    return companyPerformance"
      ],
      "metadata": {
        "id": "Mp3eapZPLWwD"
      },
      "execution_count": 77,
      "outputs": []
    },
    {
      "cell_type": "markdown",
      "source": [
        "## RESULT"
      ],
      "metadata": {
        "id": "TFxb5o2O7u65"
      }
    },
    {
      "cell_type": "code",
      "source": [
        "print(\"Performance Each Year:\")\n",
        "for (x, index) in enumerate(range(14)):\n",
        "    print(\"Year \",index+1,\" : \", calculateCompanyPerformance_withCaterpillar(x+1, dataBSC), \"({:.2f})\".format(calculateCompanyPerformance_withCaterpillar(x+1, dataBSC)))"
      ],
      "metadata": {
        "colab": {
          "base_uri": "https://localhost:8080/",
          "height": 426
        },
        "id": "O0AsJY92OqY0",
        "outputId": "c78650e6-b3f0-48bc-f47b-3b44e96e341e"
      },
      "execution_count": 78,
      "outputs": [
        {
          "output_type": "stream",
          "name": "stdout",
          "text": [
            "Performance Each Year:\n",
            "Year  1  :  0.8470491803278688 (0.85)\n",
            "Year  2  :  0.7748182964576409 (0.77)\n",
            "Year  3  :  0.6465746685008983 (0.65)\n",
            "Year  4  :  0.4950571224519068 (0.50)\n"
          ]
        },
        {
          "output_type": "error",
          "ename": "NameError",
          "evalue": "ignored",
          "traceback": [
            "\u001b[0;31m---------------------------------------------------------------------------\u001b[0m",
            "\u001b[0;31mNameError\u001b[0m                                 Traceback (most recent call last)",
            "\u001b[0;32m<ipython-input-78-6a3b9089e776>\u001b[0m in \u001b[0;36m<module>\u001b[0;34m()\u001b[0m\n\u001b[1;32m      1\u001b[0m \u001b[0mprint\u001b[0m\u001b[0;34m(\u001b[0m\u001b[0;34m\"Performance Each Year:\"\u001b[0m\u001b[0;34m)\u001b[0m\u001b[0;34m\u001b[0m\u001b[0;34m\u001b[0m\u001b[0m\n\u001b[1;32m      2\u001b[0m \u001b[0;32mfor\u001b[0m \u001b[0;34m(\u001b[0m\u001b[0mx\u001b[0m\u001b[0;34m,\u001b[0m \u001b[0mindex\u001b[0m\u001b[0;34m)\u001b[0m \u001b[0;32min\u001b[0m \u001b[0menumerate\u001b[0m\u001b[0;34m(\u001b[0m\u001b[0mrange\u001b[0m\u001b[0;34m(\u001b[0m\u001b[0;36m14\u001b[0m\u001b[0;34m)\u001b[0m\u001b[0;34m)\u001b[0m\u001b[0;34m:\u001b[0m\u001b[0;34m\u001b[0m\u001b[0;34m\u001b[0m\u001b[0m\n\u001b[0;32m----> 3\u001b[0;31m     \u001b[0mprint\u001b[0m\u001b[0;34m(\u001b[0m\u001b[0;34m\"Year \"\u001b[0m\u001b[0;34m,\u001b[0m\u001b[0mindex\u001b[0m\u001b[0;34m+\u001b[0m\u001b[0;36m1\u001b[0m\u001b[0;34m,\u001b[0m\u001b[0;34m\" : \"\u001b[0m\u001b[0;34m,\u001b[0m \u001b[0mcalculateCompanyPerformance_withCaterpillar\u001b[0m\u001b[0;34m(\u001b[0m\u001b[0mx\u001b[0m\u001b[0;34m+\u001b[0m\u001b[0;36m1\u001b[0m\u001b[0;34m,\u001b[0m \u001b[0mdataBSC\u001b[0m\u001b[0;34m)\u001b[0m\u001b[0;34m,\u001b[0m \u001b[0;34m\"({:.2f})\"\u001b[0m\u001b[0;34m.\u001b[0m\u001b[0mformat\u001b[0m\u001b[0;34m(\u001b[0m\u001b[0mcalculateCompanyPerformance_withCaterpillar\u001b[0m\u001b[0;34m(\u001b[0m\u001b[0mx\u001b[0m\u001b[0;34m+\u001b[0m\u001b[0;36m1\u001b[0m\u001b[0;34m,\u001b[0m \u001b[0mdataBSC\u001b[0m\u001b[0;34m)\u001b[0m\u001b[0;34m)\u001b[0m\u001b[0;34m)\u001b[0m\u001b[0;34m\u001b[0m\u001b[0;34m\u001b[0m\u001b[0m\n\u001b[0m",
            "\u001b[0;32m<ipython-input-77-234d33550c19>\u001b[0m in \u001b[0;36mcalculateCompanyPerformance_withCaterpillar\u001b[0;34m(currYear, data)\u001b[0m\n\u001b[1;32m      9\u001b[0m             \u001b[0mcompanyPerformance\u001b[0m \u001b[0;34m+=\u001b[0m \u001b[0mcontEgg\u001b[0m\u001b[0;34m[\u001b[0m\u001b[0mx\u001b[0m\u001b[0;34m]\u001b[0m\u001b[0;34m\u001b[0m\u001b[0;34m\u001b[0m\u001b[0m\n\u001b[1;32m     10\u001b[0m     \u001b[0;32melse\u001b[0m\u001b[0;34m:\u001b[0m  \u001b[0;31m# Caterpillar\u001b[0m\u001b[0;34m\u001b[0m\u001b[0;34m\u001b[0m\u001b[0m\n\u001b[0;32m---> 11\u001b[0;31m         \u001b[0mcompanyPerformance\u001b[0m \u001b[0;34m=\u001b[0m \u001b[0;34m(\u001b[0m\u001b[0mcalculateAA\u001b[0m\u001b[0;34m(\u001b[0m\u001b[0;36m4\u001b[0m\u001b[0;34m,\u001b[0m \u001b[0mcurrYear\u001b[0m\u001b[0;34m,\u001b[0m \u001b[0mdataBsc\u001b[0m\u001b[0;34m)\u001b[0m \u001b[0;34m+\u001b[0m \u001b[0mgetAvgAEgg\u001b[0m\u001b[0;34m(\u001b[0m\u001b[0mdataBsc\u001b[0m\u001b[0;34m)\u001b[0m\u001b[0;34m)\u001b[0m \u001b[0;34m/\u001b[0m \u001b[0;34m(\u001b[0m\u001b[0mcurrYear\u001b[0m \u001b[0;34m-\u001b[0m \u001b[0;36m4\u001b[0m \u001b[0;34m+\u001b[0m \u001b[0;36m1\u001b[0m\u001b[0;34m)\u001b[0m  \u001b[0;31m# Get Q\u001b[0m\u001b[0;34m\u001b[0m\u001b[0;34m\u001b[0m\u001b[0m\n\u001b[0m\u001b[1;32m     12\u001b[0m         \u001b[0;31m# Get Contribution - HARD CODE DUMMY DATA\u001b[0m\u001b[0;34m\u001b[0m\u001b[0;34m\u001b[0m\u001b[0;34m\u001b[0m\u001b[0m\n\u001b[1;32m     13\u001b[0m         \u001b[0mcontCat\u001b[0m \u001b[0;34m=\u001b[0m \u001b[0mgetContributionCaterpillar\u001b[0m\u001b[0;34m(\u001b[0m\u001b[0mdataExtCat\u001b[0m\u001b[0;34m)\u001b[0m\u001b[0;34m\u001b[0m\u001b[0;34m\u001b[0m\u001b[0m\n",
            "\u001b[0;31mNameError\u001b[0m: name 'dataBsc' is not defined"
          ]
        }
      ]
    },
    {
      "cell_type": "code",
      "source": [
        ""
      ],
      "metadata": {
        "id": "wCI8tBoEO0di"
      },
      "execution_count": null,
      "outputs": []
    }
  ]
}